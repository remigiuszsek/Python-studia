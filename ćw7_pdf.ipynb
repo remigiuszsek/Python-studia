{
  "cells": [
    {
      "cell_type": "markdown",
      "metadata": {
        "id": "view-in-github",
        "colab_type": "text"
      },
      "source": [
        "<a href=\"https://colab.research.google.com/github/remigiuszsek/Python-studia/blob/main/%C4%87w7_pdf.ipynb\" target=\"_parent\"><img src=\"https://colab.research.google.com/assets/colab-badge.svg\" alt=\"Open In Colab\"/></a>"
      ]
    },
    {
      "cell_type": "markdown",
      "source": [
        "Biblioteka numpy cz 2"
      ],
      "metadata": {
        "id": "r3N3Gs0jP4Is"
      }
    },
    {
      "cell_type": "code",
      "execution_count": null,
      "metadata": {
        "id": "lIYdn1woOS1n"
      },
      "outputs": [],
      "source": [
        "import numpy as np"
      ]
    },
    {
      "cell_type": "markdown",
      "source": [
        "1.1. Operacje arytmetyczne"
      ],
      "metadata": {
        "id": "6CHBQ73yRCMe"
      }
    },
    {
      "cell_type": "code",
      "source": [
        "a = np.array([20, 30, 40, 50])\n",
        "b = np.arange(4)\n",
        "print(a)\n",
        "print(b)\n",
        "c = a - b\n",
        "print(c)\n",
        "print(b**2)\n",
        "print('To jest a: ')\n",
        "print(a)\n",
        "a+=b\n",
        "print(a)\n",
        "a-=b\n",
        "print(a)"
      ],
      "metadata": {
        "id": "s2mDKNuqQBou",
        "outputId": "fc011685-6ca2-4900-e6f7-a9f87f73999b",
        "colab": {
          "base_uri": "https://localhost:8080/"
        }
      },
      "execution_count": null,
      "outputs": [
        {
          "output_type": "stream",
          "name": "stdout",
          "text": [
            "[20 30 40 50]\n",
            "[0 1 2 3]\n",
            "[20 29 38 47]\n",
            "[0 1 4 9]\n",
            "To jest a: \n",
            "[20 30 40 50]\n",
            "[20 31 42 53]\n",
            "[20 30 40 50]\n"
          ]
        }
      ]
    },
    {
      "cell_type": "markdown",
      "source": [
        "1.2 Operacje na osiach"
      ],
      "metadata": {
        "id": "N7FcqnmURFbt"
      }
    },
    {
      "cell_type": "code",
      "source": [
        "d = np.arange(12).reshape(3,4)\n",
        "print(d)\n",
        "print(d.sum())\n",
        "print(d.sum(axis=0))\n",
        "print(d.min(axis=1))\n",
        "print(d.cumsum(axis=1))"
      ],
      "metadata": {
        "id": "8fdf3dXbRKzz",
        "outputId": "9767adc5-668f-4b7e-a736-42e426ad3644",
        "colab": {
          "base_uri": "https://localhost:8080/"
        }
      },
      "execution_count": null,
      "outputs": [
        {
          "output_type": "stream",
          "name": "stdout",
          "text": [
            "[[ 0  1  2  3]\n",
            " [ 4  5  6  7]\n",
            " [ 8  9 10 11]]\n",
            "66\n",
            "[12 15 18 21]\n",
            "[0 4 8]\n",
            "[[ 0  1  3  6]\n",
            " [ 4  9 15 22]\n",
            " [ 8 17 27 38]]\n"
          ]
        }
      ]
    },
    {
      "cell_type": "markdown",
      "source": [
        "1.3. Mnożenie macierzy"
      ],
      "metadata": {
        "id": "6O7f5cxAT2Gc"
      }
    },
    {
      "cell_type": "code",
      "source": [
        "a = np.arange(3)\n",
        "print(a)\n",
        "b = np.arange(3)\n",
        "print(b)\n",
        "print(np.dot(a,b))"
      ],
      "metadata": {
        "id": "DncQGXXmT4Cx",
        "outputId": "10a4727a-7e30-4e4a-e699-30f405e160c0",
        "colab": {
          "base_uri": "https://localhost:8080/"
        }
      },
      "execution_count": null,
      "outputs": [
        {
          "output_type": "stream",
          "name": "stdout",
          "text": [
            "[0 1 2]\n",
            "[0 1 2]\n",
            "5\n"
          ]
        }
      ]
    },
    {
      "cell_type": "markdown",
      "source": [
        "1.4. Operacje na tablicach różnej dokładności (upcasting)"
      ],
      "metadata": {
        "id": "0wPWM7qHlT1u"
      }
    },
    {
      "cell_type": "code",
      "source": [
        "a = np.ones(3, dtype=np.int32)\n",
        "print(a)\n",
        "print(a.dtype.name)\n",
        "b = np.linspace(0,np.pi,3)\n",
        "print(b)\n",
        "print(b.dtype.name)\n",
        "c = a + b\n",
        "print(c)\n",
        "print(c.dtype.name)\n",
        "d = np.exp(c*1j)\n",
        "print(d)\n",
        "print(d.dtype.name)"
      ],
      "metadata": {
        "id": "IDaTIUHKlWqr",
        "outputId": "f2b11de4-b830-4b49-9dbe-f69a37dcdb38",
        "colab": {
          "base_uri": "https://localhost:8080/"
        }
      },
      "execution_count": null,
      "outputs": [
        {
          "output_type": "stream",
          "name": "stdout",
          "text": [
            "[1 1 1]\n",
            "int32\n",
            "[0.         1.57079633 3.14159265]\n",
            "float64\n",
            "[1.         2.57079633 4.14159265]\n",
            "float64\n",
            "[ 0.54030231+0.84147098j -0.84147098+0.54030231j -0.54030231-0.84147098j]\n",
            "complex128\n"
          ]
        }
      ]
    },
    {
      "cell_type": "markdown",
      "source": [
        "Zad. 1. Utwórz dwie macierze 1x3 różnych wartości a następnie wykonaj operację mnożenia."
      ],
      "metadata": {
        "id": "wWiA_sh1y0xp"
      }
    },
    {
      "cell_type": "code",
      "source": [
        "a = np.arange(2,5).reshape(1,3)\n",
        "print(a)\n",
        "b = np.arange(3,6).reshape(3,1)\n",
        "print(b)\n",
        "print(a*b)"
      ],
      "metadata": {
        "id": "eSjmHr6ey3wl",
        "outputId": "b1b089f2-312b-47d6-d96e-5a072fac288a",
        "colab": {
          "base_uri": "https://localhost:8080/"
        }
      },
      "execution_count": null,
      "outputs": [
        {
          "output_type": "stream",
          "name": "stdout",
          "text": [
            "[[2 3 4]]\n",
            "[[3]\n",
            " [4]\n",
            " [5]]\n",
            "[[ 6  9 12]\n",
            " [ 8 12 16]\n",
            " [10 15 20]]\n"
          ]
        }
      ]
    },
    {
      "cell_type": "markdown",
      "source": [
        "Zad. 2. Utwórz macierz 3x3 oraz 4x4 i znajdź najniższe wartości dla każdej kolumny i każdego\n",
        "rzędu."
      ],
      "metadata": {
        "id": "xcjwAoWK0RRM"
      }
    },
    {
      "cell_type": "code",
      "source": [
        "a = np.arange(9).reshape(3,3)\n",
        "print(a)\n",
        "b = np. arange(16).reshape(4,4)\n",
        "print(b)\n",
        "print(a.min(axis=0))\n",
        "print(a.min(axis=1))\n",
        "print(b.min(axis=0))\n",
        "print(b.min(axis=1))"
      ],
      "metadata": {
        "id": "Rq5zlaC10gMA",
        "outputId": "0dfdc5c4-f842-4a2c-cb5c-4f2c201ee117",
        "colab": {
          "base_uri": "https://localhost:8080/"
        }
      },
      "execution_count": null,
      "outputs": [
        {
          "output_type": "stream",
          "name": "stdout",
          "text": [
            "[[0 1 2]\n",
            " [3 4 5]\n",
            " [6 7 8]]\n",
            "[[ 0  1  2  3]\n",
            " [ 4  5  6  7]\n",
            " [ 8  9 10 11]\n",
            " [12 13 14 15]]\n",
            "[0 1 2]\n",
            "[0 3 6]\n",
            "[0 1 2 3]\n",
            "[ 0  4  8 12]\n"
          ]
        }
      ]
    },
    {
      "cell_type": "markdown",
      "source": [
        "Zad. 3. Wykorzystaj macierze z zadania pierwszego i wykonaj iloczyn macierzy."
      ],
      "metadata": {
        "id": "hIN7ZlbI2qJz"
      }
    },
    {
      "cell_type": "code",
      "source": [
        "a = np.arange(2,5).reshape(1,3)\n",
        "print(a)\n",
        "b = np.arange(3,6).reshape(3,1)\n",
        "print(b)\n",
        "print(np.dot(a,b))"
      ],
      "metadata": {
        "id": "8x3DHBLt22RO",
        "outputId": "29a8361e-9479-4d65-e273-bdd6bfe07242",
        "colab": {
          "base_uri": "https://localhost:8080/"
        }
      },
      "execution_count": null,
      "outputs": [
        {
          "output_type": "stream",
          "name": "stdout",
          "text": [
            "[[2 3 4]]\n",
            "[[3]\n",
            " [4]\n",
            " [5]]\n",
            "[[38]]\n"
          ]
        }
      ]
    },
    {
      "cell_type": "markdown",
      "source": [
        "Zad. 4. Utwórz dwie macierze 1x3 gdzie pierwsza z nich będzie zawierała liczby całkowite, a druga\n",
        "liczby rzeczywiste. Następnie wykonaj na nich operację mnożenia"
      ],
      "metadata": {
        "id": "Ez3uMSiX3CFX"
      }
    },
    {
      "cell_type": "code",
      "source": [
        "a = np.arange(3).reshape(3,1)\n",
        "print(a)\n",
        "b = np.arange(3, dtype=float).reshape(3,1)\n",
        "print(b)\n",
        "print(a*b)"
      ],
      "metadata": {
        "id": "aU7myH4p3I7y",
        "outputId": "d1f09d12-e71d-419a-b38e-4826b2bae6c2",
        "colab": {
          "base_uri": "https://localhost:8080/"
        }
      },
      "execution_count": null,
      "outputs": [
        {
          "output_type": "stream",
          "name": "stdout",
          "text": [
            "[[0]\n",
            " [1]\n",
            " [2]]\n",
            "[[0.]\n",
            " [1.]\n",
            " [2.]]\n",
            "[[0.]\n",
            " [1.]\n",
            " [4.]]\n"
          ]
        }
      ]
    },
    {
      "cell_type": "markdown",
      "source": [
        "2. Funkcje uniwersalne"
      ],
      "metadata": {
        "id": "EDRkIdQy5oIr"
      }
    },
    {
      "cell_type": "code",
      "source": [
        "b = np.arange(3)\n",
        "print(b)\n",
        "print(np.exp(b))\n",
        "print(np.sqrt(b))\n",
        "c = np.array([2., -1., 4])\n",
        "print(np.add(b, c))"
      ],
      "metadata": {
        "id": "aeuLht7L5p-N",
        "outputId": "8a35e245-ce89-4f93-ca6c-dde19e71fd63",
        "colab": {
          "base_uri": "https://localhost:8080/"
        }
      },
      "execution_count": null,
      "outputs": [
        {
          "output_type": "stream",
          "name": "stdout",
          "text": [
            "[0 1 2]\n",
            "[1.         2.71828183 7.3890561 ]\n",
            "[0.         1.         1.41421356]\n",
            "[2. 0. 6.]\n"
          ]
        }
      ]
    },
    {
      "cell_type": "markdown",
      "source": [
        "Zad. 5. Utwórz macierz 2x3 różnych wartości a następnie wylicz sinus dla każdej z jej wartości i\n",
        "zapisz do zmiennej “a”."
      ],
      "metadata": {
        "id": "mSqw3sXX7Faj"
      }
    },
    {
      "cell_type": "code",
      "source": [
        "x = np.arange(6).reshape(2,3)\n",
        "print(x)\n",
        "a = np.sin(x)\n",
        "print(a)"
      ],
      "metadata": {
        "id": "Y4Z2fx8z7I9T",
        "outputId": "e0dbfa9b-a062-489d-a44a-aa6dd801ed49",
        "colab": {
          "base_uri": "https://localhost:8080/"
        }
      },
      "execution_count": null,
      "outputs": [
        {
          "output_type": "stream",
          "name": "stdout",
          "text": [
            "[[0 1 2]\n",
            " [3 4 5]]\n",
            "[[ 0.          0.84147098  0.90929743]\n",
            " [ 0.14112001 -0.7568025  -0.95892427]]\n"
          ]
        }
      ]
    },
    {
      "cell_type": "markdown",
      "source": [
        "Zad. 6. Utwórz nową macierz 2x3 różnych wartości a następnie wylicz cosinus dla każdej z jej\n",
        "wartości i zapisz do zmiennej “b”."
      ],
      "metadata": {
        "id": "c0L9dAt9715c"
      }
    },
    {
      "cell_type": "code",
      "source": [
        "a = np.arange(6).reshape(2,3)\n",
        "print(a)\n",
        "b = np.cos(a)\n",
        "print(b)\n"
      ],
      "metadata": {
        "id": "R0G2EhGn74pd",
        "outputId": "150fc309-d2c5-4683-da61-ba5972c8a806",
        "colab": {
          "base_uri": "https://localhost:8080/"
        }
      },
      "execution_count": null,
      "outputs": [
        {
          "output_type": "stream",
          "name": "stdout",
          "text": [
            "[[0 1 2]\n",
            " [3 4 5]]\n",
            "[[ 1.          0.54030231 -0.41614684]\n",
            " [-0.9899925  -0.65364362  0.28366219]]\n"
          ]
        }
      ]
    },
    {
      "cell_type": "markdown",
      "source": [
        "Zad. 7 Wykonaj funkcję dodawania obu macierzy zapisanych wcześniej do zmiennych a i b."
      ],
      "metadata": {
        "id": "DcGQBk6e8Wz2"
      }
    },
    {
      "cell_type": "code",
      "source": [
        "a = np.arange(6).reshape(2,3)\n",
        "b = np.arange(3,9).reshape(2,3)\n",
        "print(b)\n",
        "print(np.add(a,b))"
      ],
      "metadata": {
        "id": "hDsxKAa48vpF",
        "outputId": "83ea09aa-92dd-4735-a345-713a5cf144e7",
        "colab": {
          "base_uri": "https://localhost:8080/"
        }
      },
      "execution_count": null,
      "outputs": [
        {
          "output_type": "stream",
          "name": "stdout",
          "text": [
            "[[3 4 5]\n",
            " [6 7 8]]\n",
            "[[ 3  5  7]\n",
            " [ 9 11 13]]\n"
          ]
        }
      ]
    },
    {
      "cell_type": "markdown",
      "source": [
        "3. Iteracja tablic"
      ],
      "metadata": {
        "id": "vC42vj7W9S9o"
      }
    },
    {
      "cell_type": "code",
      "source": [
        "b = np.arange(6).reshape(3,2)\n",
        "print(b)\n",
        "for a in b:\n",
        "  print(a)\n",
        "c = np.arange(6).reshape(3,2)\n",
        "print(c)\n",
        "for a in c.flat:\n",
        "  print(a)"
      ],
      "metadata": {
        "id": "m69wpr_d9VqX",
        "outputId": "a225e1cd-463a-42f0-cde0-3b7bb9507e8f",
        "colab": {
          "base_uri": "https://localhost:8080/"
        }
      },
      "execution_count": null,
      "outputs": [
        {
          "output_type": "stream",
          "name": "stdout",
          "text": [
            "[[0 1]\n",
            " [2 3]\n",
            " [4 5]]\n",
            "[0 1]\n",
            "[2 3]\n",
            "[4 5]\n",
            "[[0 1]\n",
            " [2 3]\n",
            " [4 5]]\n",
            "0\n",
            "1\n",
            "2\n",
            "3\n",
            "4\n",
            "5\n"
          ]
        }
      ]
    },
    {
      "cell_type": "markdown",
      "source": [
        "Zad. 8. Wygeneruj macierz 3x3 i wyświetl w pętli każdy z rzędów."
      ],
      "metadata": {
        "id": "lYPCZVNa-lgw"
      }
    },
    {
      "cell_type": "code",
      "source": [
        "b = np.arange(9).reshape(3,3)\n",
        "for a in b:\n",
        "  print(a)"
      ],
      "metadata": {
        "id": "C96qprVF-oHp",
        "outputId": "bdb16d5f-a3fc-429b-de0c-62ffeb23bf8f",
        "colab": {
          "base_uri": "https://localhost:8080/"
        }
      },
      "execution_count": null,
      "outputs": [
        {
          "output_type": "stream",
          "name": "stdout",
          "text": [
            "[0 1 2]\n",
            "[3 4 5]\n",
            "[6 7 8]\n"
          ]
        }
      ]
    },
    {
      "cell_type": "markdown",
      "source": [
        "Zad. 9. Wygeneruj macierz 3x3 i wyświetl w pętli każdy element korzystając z opcji “spłaszczenia”\n",
        "macierzy."
      ],
      "metadata": {
        "id": "m344xBxR-xDX"
      }
    },
    {
      "cell_type": "code",
      "source": [
        "a = np.arange(9).reshape(3,3)\n",
        "for b in a.flat:\n",
        "  print(b)"
      ],
      "metadata": {
        "id": "DQ5jFIvW__7Y",
        "outputId": "58049975-82af-48d0-ed27-e185629fdc29",
        "colab": {
          "base_uri": "https://localhost:8080/"
        }
      },
      "execution_count": null,
      "outputs": [
        {
          "output_type": "stream",
          "name": "stdout",
          "text": [
            "0\n",
            "1\n",
            "2\n",
            "3\n",
            "4\n",
            "5\n",
            "6\n",
            "7\n",
            "8\n"
          ]
        }
      ]
    },
    {
      "cell_type": "markdown",
      "source": [
        "4. Przekształcenia"
      ],
      "metadata": {
        "id": "FKwSktTDAWxK"
      }
    },
    {
      "cell_type": "code",
      "source": [
        "b = np.arange(6)\n",
        "print(b)\n",
        "print(b.shape)\n",
        "c = np.array([np.arange(3), np.arange(3), np.arange(3)])\n",
        "print(c)\n",
        "print(c.shape)"
      ],
      "metadata": {
        "id": "j8umfh0bAYvT",
        "outputId": "b207d1f1-9961-4b43-e82e-8d4ac90260b0",
        "colab": {
          "base_uri": "https://localhost:8080/"
        }
      },
      "execution_count": null,
      "outputs": [
        {
          "output_type": "stream",
          "name": "stdout",
          "text": [
            "[0 1 2 3 4 5]\n",
            "(6,)\n",
            "[[0 1 2]\n",
            " [0 1 2]\n",
            " [0 1 2]]\n",
            "(3, 3)\n"
          ]
        }
      ]
    },
    {
      "cell_type": "code",
      "source": [
        "b = np.arange(6)\n",
        "print(b)\n",
        "print(b.shape)\n",
        "c = b.reshape((2,3))\n",
        "print(c)\n",
        "print(c.shape)\n",
        "d = c.reshape((3,2))\n",
        "print(d)\n",
        "print(d.shape)\n",
        "e = d.ravel()\n",
        "print(e)\n",
        "print(e.shape)\n",
        "f = c.T\n",
        "print(f)\n",
        "print(f.shape)"
      ],
      "metadata": {
        "id": "RdIu938tBZkD",
        "outputId": "2c9cb99d-adb3-43ed-bf5a-ee696e2c17e2",
        "colab": {
          "base_uri": "https://localhost:8080/"
        }
      },
      "execution_count": null,
      "outputs": [
        {
          "output_type": "stream",
          "name": "stdout",
          "text": [
            "[0 1 2 3 4 5]\n",
            "(6,)\n",
            "[[0 1 2]\n",
            " [3 4 5]]\n",
            "(2, 3)\n",
            "[[0 1]\n",
            " [2 3]\n",
            " [4 5]]\n",
            "(3, 2)\n",
            "[0 1 2 3 4 5]\n",
            "(6,)\n",
            "[[0 3]\n",
            " [1 4]\n",
            " [2 5]]\n",
            "(3, 2)\n"
          ]
        }
      ]
    },
    {
      "cell_type": "markdown",
      "source": [
        "Zad. 10. Wygeneruj macierz 9x9 a następnie zmień jej kształt. Jakie mamy możliwości i dlaczego?"
      ],
      "metadata": {
        "id": "Jsbyw7R2Cg9z"
      }
    },
    {
      "cell_type": "code",
      "source": [
        "a = np.arange(81).reshape(9,9)\n",
        "print(a)\n",
        "b = a.reshape(3, 27)\n",
        "print(b)\n",
        "#Mamy możliwości, żeby z kształtu (9,9) zmienić jedynie na (3,27) i (27,3), ponieważ są to tylko dwa istniejące kształty, które wpasuje się idealnie 81 \n",
        "#elementów"
      ],
      "metadata": {
        "id": "TmQzgZwdClas",
        "outputId": "55aba00d-b287-4ec2-8592-614b9537db2d",
        "colab": {
          "base_uri": "https://localhost:8080/"
        }
      },
      "execution_count": null,
      "outputs": [
        {
          "output_type": "stream",
          "name": "stdout",
          "text": [
            "[[ 0  1  2  3  4  5  6  7  8]\n",
            " [ 9 10 11 12 13 14 15 16 17]\n",
            " [18 19 20 21 22 23 24 25 26]\n",
            " [27 28 29 30 31 32 33 34 35]\n",
            " [36 37 38 39 40 41 42 43 44]\n",
            " [45 46 47 48 49 50 51 52 53]\n",
            " [54 55 56 57 58 59 60 61 62]\n",
            " [63 64 65 66 67 68 69 70 71]\n",
            " [72 73 74 75 76 77 78 79 80]]\n",
            "[[ 0  1  2  3  4  5  6  7  8  9 10 11 12 13 14 15 16 17 18 19 20 21 22 23\n",
            "  24 25 26]\n",
            " [27 28 29 30 31 32 33 34 35 36 37 38 39 40 41 42 43 44 45 46 47 48 49 50\n",
            "  51 52 53]\n",
            " [54 55 56 57 58 59 60 61 62 63 64 65 66 67 68 69 70 71 72 73 74 75 76 77\n",
            "  78 79 80]]\n"
          ]
        }
      ]
    },
    {
      "cell_type": "markdown",
      "source": [
        "Zad. 11. Wygeneruj macierz płaską i przekształć ja na 3x4. Wygeneruj w ten sposób jeszcze\n",
        "kombinacje 4x3 i 2x6. Spłaszcz każdą z nich i wyświetl wyniki. Czy są identyczne?"
      ],
      "metadata": {
        "id": "3kUQT5UMDkbA"
      }
    },
    {
      "cell_type": "code",
      "source": [
        "a = np.arange(12)\n",
        "print(a)\n",
        "d = a.reshape(3,4)\n",
        "print(d)\n",
        "b = a.reshape(4,3)\n",
        "print(b)\n",
        "c = a.reshape(2,6)\n",
        "print(c)\n",
        "print('Spłaszczone: b i c')\n",
        "print(b.ravel())\n",
        "print(c.ravel())\n",
        "print('Odp.: Tak, są identyczne')"
      ],
      "metadata": {
        "id": "o9QScxb6DqVz",
        "outputId": "0908ec76-474f-4ae3-fcb1-747c69786fd5",
        "colab": {
          "base_uri": "https://localhost:8080/"
        }
      },
      "execution_count": null,
      "outputs": [
        {
          "output_type": "stream",
          "name": "stdout",
          "text": [
            "[ 0  1  2  3  4  5  6  7  8  9 10 11]\n",
            "[[ 0  1  2  3]\n",
            " [ 4  5  6  7]\n",
            " [ 8  9 10 11]]\n",
            "[[ 0  1  2]\n",
            " [ 3  4  5]\n",
            " [ 6  7  8]\n",
            " [ 9 10 11]]\n",
            "[[ 0  1  2  3  4  5]\n",
            " [ 6  7  8  9 10 11]]\n",
            "Spłaszczone: b i c\n",
            "[ 0  1  2  3  4  5  6  7  8  9 10 11]\n",
            "[ 0  1  2  3  4  5  6  7  8  9 10 11]\n",
            "Odp.: Tak, są identyczne\n"
          ]
        }
      ]
    }
  ],
  "metadata": {
    "colab": {
      "name": "ćw7_pdf",
      "provenance": [],
      "include_colab_link": true
    },
    "kernelspec": {
      "display_name": "Python 3",
      "name": "python3"
    }
  },
  "nbformat": 4,
  "nbformat_minor": 0
}